{
 "cells": [
  {
   "cell_type": "code",
   "execution_count": 2,
   "id": "697948f1",
   "metadata": {},
   "outputs": [
    {
     "name": "stderr",
     "output_type": "stream",
     "text": [
      "Loading required package: liana\n",
      "\n",
      "Loading required package: tibble\n",
      "\n",
      "Loading required package: purrr\n",
      "\n",
      "Loading required package: Seurat\n",
      "\n",
      "Attaching SeuratObject\n",
      "\n"
     ]
    },
    {
     "name": "stdout",
     "output_type": "stream",
     "text": [
      "Formal class 'Seurat' [package \"SeuratObject\"] with 13 slots\n",
      "  ..@ assays      :List of 1\n",
      "  .. ..$ RNA:Formal class 'Assay' [package \"Seurat\"] with 8 slots\n",
      "  ..@ meta.data   :'data.frame':\t90 obs. of  4 variables:\n",
      "  .. ..$ orig.ident        : Factor w/ 1 level \"pbmc3k\": 1 1 1 1 1 1 1 1 1 1 ...\n",
      "  .. ..$ nCount_RNA        : num [1:90] 4903 3914 4973 3281 2641 ...\n",
      "  .. ..$ nFeature_RNA      : int [1:90] 1352 1112 1445 1015 928 937 899 1713 960 888 ...\n",
      "  .. ..$ seurat_annotations: Factor w/ 3 levels \"B\",\"CD8 T\",\"NK\": 1 1 1 1 3 3 1 1 1 1 ...\n",
      "  ..@ active.assay: chr \"RNA\"\n",
      "  ..@ active.ident: Factor w/ 3 levels \"B\",\"CD8 T\",\"NK\": 1 1 1 1 3 3 1 1 1 1 ...\n",
      "  .. ..- attr(*, \"names\")= chr [1:90] \"AAACATTGAGCTAC\" \"AAACTTGAAAAACG\" \"AAAGGCCTGTCTAG\" \"AAAGTTTGGGGTGA\" ...\n",
      "  ..@ graphs      : list()\n",
      "  ..@ neighbors   : list()\n",
      "  ..@ reductions  : list()\n",
      "  ..@ images      : list()\n",
      "  ..@ project.name: chr \"SeuratProject\"\n",
      "  ..@ misc        : list()\n",
      "  ..@ version     :Classes 'package_version', 'numeric_version'  hidden list of 1\n",
      "  .. ..$ : int [1:3] 3 2 3\n",
      "  ..@ commands    :List of 2\n",
      "  .. ..$ FindVariableFeatures.RNA:Formal class 'SeuratCommand' [package \"Seurat\"] with 5 slots\n",
      "  .. ..$ NormalizeData.RNA       :Formal class 'SeuratCommand' [package \"SeuratObject\"] with 5 slots\n",
      "  ..@ tools       : list()\n"
     ]
    }
   ],
   "source": [
    "require(liana)\n",
    "require(tibble)\n",
    "require(purrr)\n",
    "require(Seurat)\n",
    "liana_path <- system.file(package = \"liana\")\n",
    "testdata <-\n",
    "  readRDS(file.path(liana_path , \"testdata\", \"input\", \"testdata.rds\"))\n",
    "testdata %>% glimpse()\n"
   ]
  },
  {
   "cell_type": "code",
   "execution_count": 3,
   "id": "cda320ac",
   "metadata": {},
   "outputs": [
    {
     "data": {
      "text/html": [
       "<style>\n",
       ".list-inline {list-style: none; margin:0; padding: 0}\n",
       ".list-inline>li {display: inline-block}\n",
       ".list-inline>li:not(:last-child)::after {content: \"\\00b7\"; padding: 0 .5ex}\n",
       "</style>\n",
       "<ol class=list-inline><li>'logfc'</li><li>'natmi'</li><li>'connectome'</li><li>'sca'</li><li>'squidpy'</li><li>'cellchat'</li><li>'call_sca'</li><li>'call_natmi'</li><li>'call_italk'</li><li>'call_connectome'</li><li>'cellphonedb'</li></ol>\n"
      ],
      "text/latex": [
       "\\begin{enumerate*}\n",
       "\\item 'logfc'\n",
       "\\item 'natmi'\n",
       "\\item 'connectome'\n",
       "\\item 'sca'\n",
       "\\item 'squidpy'\n",
       "\\item 'cellchat'\n",
       "\\item 'call\\_sca'\n",
       "\\item 'call\\_natmi'\n",
       "\\item 'call\\_italk'\n",
       "\\item 'call\\_connectome'\n",
       "\\item 'cellphonedb'\n",
       "\\end{enumerate*}\n"
      ],
      "text/markdown": [
       "1. 'logfc'\n",
       "2. 'natmi'\n",
       "3. 'connectome'\n",
       "4. 'sca'\n",
       "5. 'squidpy'\n",
       "6. 'cellchat'\n",
       "7. 'call_sca'\n",
       "8. 'call_natmi'\n",
       "9. 'call_italk'\n",
       "10. 'call_connectome'\n",
       "11. 'cellphonedb'\n",
       "\n",
       "\n"
      ],
      "text/plain": [
       " [1] \"logfc\"           \"natmi\"           \"connectome\"      \"sca\"            \n",
       " [5] \"squidpy\"         \"cellchat\"        \"call_sca\"        \"call_natmi\"     \n",
       " [9] \"call_italk\"      \"call_connectome\" \"cellphonedb\"    "
      ]
     },
     "metadata": {},
     "output_type": "display_data"
    }
   ],
   "source": [
    "show_methods()"
   ]
  },
  {
   "cell_type": "code",
   "execution_count": 4,
   "id": "e4d06943",
   "metadata": {},
   "outputs": [
    {
     "data": {
      "text/plain": [
       "An object of class Seurat \n",
       "13714 features across 90 samples within 1 assay \n",
       "Active assay: RNA (13714 features, 2000 variable features)"
      ]
     },
     "metadata": {},
     "output_type": "display_data"
    }
   ],
   "source": [
    "testdata "
   ]
  },
  {
   "cell_type": "code",
   "execution_count": 8,
   "id": "8383f3e5",
   "metadata": {},
   "outputs": [
    {
     "name": "stderr",
     "output_type": "stream",
     "text": [
      "Centering and scaling data matrix\n",
      "\n",
      "Warning message in class(x) <- unique.default(c(\"AsIs\", oldClass(x))):\n",
      "“Setting class(x) to multiple strings (\"AsIs\", \"DFrame\", ...); result will no longer be an S4 object”\n",
      "Warning message in class(x) <- unique.default(c(\"AsIs\", oldClass(x))):\n",
      "“Setting class(x) to multiple strings (\"AsIs\", \"DFrame\", ...); result will no longer be an S4 object”\n"
     ]
    },
    {
     "ename": "ERROR",
     "evalue": "Error: BiocParallel errors\n  element index: 1, 2, 3\n  first error: invalid length of row names\n",
     "output_type": "error",
     "traceback": [
      "Error: BiocParallel errors\n  element index: 1, 2, 3\n  first error: invalid length of row names\nTraceback:\n",
      "1. liana_wrap(testdata, method = c(\"cellphonedb\"), resource = c(\"OmniPath\"), \n .     cellchat.params = list(.normalize = TRUE))",
      "2. resource %>% map(function(reso) {\n .     if (is.null(reso)) {\n .         warning(\"Resource was NULL and LIANA PIPE methods were run with OmniPath\")\n .         reso <- select_resource(\"OmniPath\")[[1]]\n .     }\n .     rlang::invoke(liana_pipe, append(list(seurat_object = seurat_object, \n .         op_resource = reso %>% decomplexify()), liana_defaults(...)[[\"liana_pipe\"]]))\n . }) %>% setNames(names(resource))",
      "3. setNames(., names(resource))",
      "4. map(., function(reso) {\n .     if (is.null(reso)) {\n .         warning(\"Resource was NULL and LIANA PIPE methods were run with OmniPath\")\n .         reso <- select_resource(\"OmniPath\")[[1]]\n .     }\n .     rlang::invoke(liana_pipe, append(list(seurat_object = seurat_object, \n .         op_resource = reso %>% decomplexify()), liana_defaults(...)[[\"liana_pipe\"]]))\n . })",
      "5. .f(.x[[i]], ...)",
      "6. rlang::invoke(liana_pipe, append(list(seurat_object = seurat_object, \n .     op_resource = reso %>% decomplexify()), liana_defaults(...)[[\"liana_pipe\"]]))",
      "7. .fn(seurat_object = `1`, op_resource = `2`, decomplexify = `3`, \n .     test.type = `4`, pval.type = `5`, trim = `6`, assay = `7`, \n .     assay.type = `8`)",
      "8. scran::findMarkers(sce, groups = colLabels(sce), direction = \"any\", \n .     full.stats = TRUE, test.type = test.type, pval.type = pval.type, \n .     assay.type = assay.type) %>% pluck(\"listData\") %>% map2(., \n .     names(.), function(cluster, cluster_name) {\n .         cluster %>% as.data.frame() %>% rownames_to_column(\"gene\") %>% \n .             as_tibble() %>% select(gene, p.value, FDR, stat = summary.stats)\n .     })",
      "9. map2(., names(.), function(cluster, cluster_name) {\n .     cluster %>% as.data.frame() %>% rownames_to_column(\"gene\") %>% \n .         as_tibble() %>% select(gene, p.value, FDR, stat = summary.stats)\n . })",
      "10. pluck(., \"listData\")",
      "11. scran::findMarkers(sce, groups = colLabels(sce), direction = \"any\", \n  .     full.stats = TRUE, test.type = test.type, pval.type = pval.type, \n  .     assay.type = assay.type)",
      "12. scran::findMarkers(sce, groups = colLabels(sce), direction = \"any\", \n  .     full.stats = TRUE, test.type = test.type, pval.type = pval.type, \n  .     assay.type = assay.type)",
      "13. .local(x, ...)",
      "14. callNextMethod(x = x, groups = groups, ...)",
      "15. eval(call, callEnv)",
      "16. eval(call, callEnv)",
      "17. .nextMethod(x = x, groups = groups, ...)",
      "18. .local(x, ...)",
      "19. .findMarkers(assay(x, i = assay.type), ...)",
      "20. combineMarkers(fit$statistics, fit$pairs, pval.type = pval.type, \n  .     min.prop = min.prop, log.p.in = TRUE, log.p.out = log.p, \n  .     full.stats = full.stats, pval.field = \"log.p.value\", effect.field = effect.field, \n  .     sorted = sorted, BPPARAM = BPPARAM)",
      "21. bplapply(by.first, FUN = .combine_markers_internal, pairs = pairs, \n  .     de.lists = de.lists, method = method, gene.names = gene.names, \n  .     report.effects = report.effects, pval.type = pval.type, effect.field = effect.field, \n  .     min.prop = min.prop, log.p.in = log.p.in, log.p.out = log.p.out, \n  .     pval.field = pval.field, output.field = output.field, full.stats = full.stats, \n  .     sorted = sorted, flatten = flatten, BPPARAM = BPPARAM)",
      "22. bplapply(by.first, FUN = .combine_markers_internal, pairs = pairs, \n  .     de.lists = de.lists, method = method, gene.names = gene.names, \n  .     report.effects = report.effects, pval.type = pval.type, effect.field = effect.field, \n  .     min.prop = min.prop, log.p.in = log.p.in, log.p.out = log.p.out, \n  .     pval.field = pval.field, output.field = output.field, full.stats = full.stats, \n  .     sorted = sorted, flatten = flatten, BPPARAM = BPPARAM)"
     ]
    }
   ],
   "source": [
    "liana_test <- liana_wrap(testdata,\n",
    "                         method = c(\"cellphonedb\"),\n",
    "                         resource = c('OmniPath'),\n",
    "                          # CellChat requires normalized data\n",
    "                         cellchat.params = list(.normalize=TRUE))"
   ]
  },
  {
   "cell_type": "code",
   "execution_count": null,
   "id": "d1c6725b",
   "metadata": {},
   "outputs": [],
   "source": []
  }
 ],
 "metadata": {
  "kernelspec": {
   "display_name": "R",
   "language": "R",
   "name": "ir"
  },
  "language_info": {
   "codemirror_mode": "r",
   "file_extension": ".r",
   "mimetype": "text/x-r-source",
   "name": "R",
   "pygments_lexer": "r",
   "version": "4.1.2"
  }
 },
 "nbformat": 4,
 "nbformat_minor": 5
}
